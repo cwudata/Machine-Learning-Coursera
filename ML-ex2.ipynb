{
 "cells": [
  {
   "cell_type": "markdown",
   "metadata": {
    "deletable": true,
    "editable": true
   },
   "source": [
    "# Machine Learning Exercise 2 - Logistic Regression\n",
    "Programming exercise for Andrew Ng's Machine Learning Class on Coursera written in python 3.4."
   ]
  },
  {
   "cell_type": "markdown",
   "metadata": {
    "deletable": true,
    "editable": true
   },
   "source": [
    "## Logistic Regression\n",
    "Task: build a classification model that estimates an applicant's probability of admission based on the scores from two exams."
   ]
  },
  {
   "cell_type": "code",
   "execution_count": 1,
   "metadata": {
    "collapsed": false,
    "deletable": true,
    "editable": true
   },
   "outputs": [],
   "source": [
    "import pandas as pd\n",
    "import numpy as np\n",
    "import matplotlib.pyplot as plt\n",
    "%matplotlib inline\n",
    "np.set_printoptions(precision=4, suppress=True)"
   ]
  },
  {
   "cell_type": "code",
   "execution_count": 2,
   "metadata": {
    "collapsed": false,
    "deletable": true,
    "editable": true
   },
   "outputs": [
    {
     "data": {
      "text/html": [
       "<div>\n",
       "<table border=\"1\" class=\"dataframe\">\n",
       "  <thead>\n",
       "    <tr style=\"text-align: right;\">\n",
       "      <th></th>\n",
       "      <th>score1</th>\n",
       "      <th>score2</th>\n",
       "      <th>Admission</th>\n",
       "      <th>Status</th>\n",
       "    </tr>\n",
       "  </thead>\n",
       "  <tbody>\n",
       "    <tr>\n",
       "      <th>0</th>\n",
       "      <td>34.623660</td>\n",
       "      <td>78.024693</td>\n",
       "      <td>0</td>\n",
       "      <td>Not admitted</td>\n",
       "    </tr>\n",
       "    <tr>\n",
       "      <th>1</th>\n",
       "      <td>30.286711</td>\n",
       "      <td>43.894998</td>\n",
       "      <td>0</td>\n",
       "      <td>Not admitted</td>\n",
       "    </tr>\n",
       "    <tr>\n",
       "      <th>2</th>\n",
       "      <td>35.847409</td>\n",
       "      <td>72.902198</td>\n",
       "      <td>0</td>\n",
       "      <td>Not admitted</td>\n",
       "    </tr>\n",
       "    <tr>\n",
       "      <th>3</th>\n",
       "      <td>60.182599</td>\n",
       "      <td>86.308552</td>\n",
       "      <td>1</td>\n",
       "      <td>Admitted</td>\n",
       "    </tr>\n",
       "    <tr>\n",
       "      <th>4</th>\n",
       "      <td>79.032736</td>\n",
       "      <td>75.344376</td>\n",
       "      <td>1</td>\n",
       "      <td>Admitted</td>\n",
       "    </tr>\n",
       "  </tbody>\n",
       "</table>\n",
       "</div>"
      ],
      "text/plain": [
       "      score1     score2  Admission        Status\n",
       "0  34.623660  78.024693          0  Not admitted\n",
       "1  30.286711  43.894998          0  Not admitted\n",
       "2  35.847409  72.902198          0  Not admitted\n",
       "3  60.182599  86.308552          1      Admitted\n",
       "4  79.032736  75.344376          1      Admitted"
      ]
     },
     "execution_count": 2,
     "metadata": {},
     "output_type": "execute_result"
    }
   ],
   "source": [
    "# load data\n",
    "df = pd.read_csv('./machine-learning-ex2/ex2/ex2data1.txt', names=['score1', 'score2', 'Admission'])\n",
    "\n",
    "# check for invalid numbers\n",
    "df['Admission'].unique()\n",
    "\n",
    "# translate numbers to admission status. np.where(,,) is equivalent to ifelse(,,) in R, however, no such function in pandas.\n",
    "df['Status'] = np.where(df['Admission'].values, 'Admitted', 'Not admitted')\n",
    "df.head()"
   ]
  },
  {
   "cell_type": "markdown",
   "metadata": {
    "deletable": true,
    "editable": true
   },
   "source": [
    "### Plotting the data"
   ]
  },
  {
   "cell_type": "code",
   "execution_count": 3,
   "metadata": {
    "collapsed": true,
    "deletable": true,
    "editable": true
   },
   "outputs": [],
   "source": [
    "import seaborn as sns\n",
    "sns.set(style='white')"
   ]
  },
  {
   "cell_type": "code",
   "execution_count": 4,
   "metadata": {
    "collapsed": false,
    "deletable": true,
    "editable": true
   },
   "outputs": [
    {
     "data": {
      "text/plain": [
       "<seaborn.axisgrid.FacetGrid at 0x109029ba8>"
      ]
     },
     "execution_count": 4,
     "metadata": {},
     "output_type": "execute_result"
    },
    {
     "data": {
      "image/png": "[encoded data removed]",
      "text/plain": [
       "<matplotlib.figure.Figure at 0x109029d68>"
      ]
     },
     "metadata": {},
     "output_type": "display_data"
    }
   ],
   "source": [
    "# plot the categorical output in seaborn (easier than matplotlib)\n",
    "ax = sns.lmplot(x='score1', y='score2', hue='Status', size=7, data=df, scatter_kws={'s':50}, fit_reg=False)\n",
    "ax.set(xlim=(30, 100), ylim=(30, 100))"
   ]
  },
  {
   "cell_type": "code",
   "execution_count": 5,
   "metadata": {
    "collapsed": false,
    "deletable": true,
    "editable": true
   },
   "outputs": [],
   "source": [
    "# plot the categorical output in matplotlib\n",
    "def plotData(data, ax, x_label1, x_label2, x_title1, x_title2, y_label, pos, neg):\n",
    "    colors = {neg: 'yellow', pos: 'black'}\n",
    "    markers = {neg: 'o', pos: '*'}\n",
    "\n",
    "    grouped = data.groupby(y_label)\n",
    "\n",
    "    for key, group in grouped:\n",
    "        group.plot(ax=ax, kind='scatter', x=x_label1, y=x_label2, label='{} = {}'.format(y_label, key), color=colors[key], marker=markers[key], s=100)\n",
    "\n",
    "    plt.xlim(data[x_label1].min()*0.8, data[x_label2].max()*1.2)\n",
    "    plt.ylim(data[x_label2].min()*0.8, data[x_label2].max()*1.2)\n",
    "    plt.legend(frameon=True)\n",
    "    plt.xlabel(x_title1)\n",
    "    plt.ylabel(x_title2)"
   ]
  },
  {
   "cell_type": "code",
   "execution_count": 6,
   "metadata": {
    "collapsed": false,
    "deletable": true,
    "editable": true
   },
   "outputs": [
    {
     "data": {
      "image/png": "[encoded data removed]",
      "text/plain": [
       "<matplotlib.figure.Figure at 0x1091a61d0>"
      ]
     },
     "metadata": {},
     "output_type": "display_data"
    }
   ],
   "source": [
    "fig, ax = plt.subplots()\n",
    "plotData(df, ax, 'score1', 'score2', 'Exam 1 score', 'Exam 2 score', 'Status', 'Admitted', 'Not admitted')"
   ]
  },
  {
   "cell_type": "markdown",
   "metadata": {
    "deletable": true,
    "editable": true
   },
   "source": [
    "### Implement Logistic Regression (no regularization)"
   ]
  },
  {
   "cell_type": "code",
   "execution_count": 7,
   "metadata": {
    "collapsed": true,
    "deletable": true,
    "editable": true
   },
   "outputs": [],
   "source": [
    "# implement the sigmoid function\n",
    "def sigmoid(z):\n",
    "    return (1 / (1 + np.exp(-z)))"
   ]
  },
  {
   "cell_type": "code",
   "execution_count": 8,
   "metadata": {
    "collapsed": true,
    "deletable": true,
    "editable": true
   },
   "outputs": [],
   "source": [
    "# implement the cost function.\n",
    "def costFunction(theta, X, y):\n",
    "    h = sigmoid(X.dot(theta))\n",
    "    return ((1/len(X)) * (-y.dot(np.log(h)) - (1-y).dot(np.log(1-h))))"
   ]
  },
  {
   "cell_type": "code",
   "execution_count": 9,
   "metadata": {
    "collapsed": false,
    "deletable": true,
    "editable": true
   },
   "outputs": [],
   "source": [
    "def gradient(theta, X, y):\n",
    "    h = sigmoid(X.dot(theta))\n",
    "    return ((1/(len(X)) * (h - y).dot(X)))"
   ]
  },
  {
   "cell_type": "code",
   "execution_count": 10,
   "metadata": {
    "collapsed": false,
    "deletable": true,
    "editable": true
   },
   "outputs": [
    {
     "name": "stdout",
     "output_type": "stream",
     "text": [
      "Cost Function:  0.69314718056\n",
      "Gradient:  [ -0.1    -12.0092 -11.2628]\n"
     ]
    }
   ],
   "source": [
    "# get cost function\n",
    "X = np.c_[np.ones(df.shape[0]), df['score1'].values , df['score2'].values]\n",
    "y = df['Admission'].values\n",
    "\n",
    "# initialize theta, define alpha\n",
    "theta = np.zeros(X.shape[1])\n",
    "\n",
    "cost = costFunction(theta, X, y)\n",
    "grad = gradient(theta, X, y)\n",
    "\n",
    "print('Cost Function: ', cost)\n",
    "print('Gradient: ', grad)"
   ]
  },
  {
   "cell_type": "markdown",
   "metadata": {
    "deletable": true,
    "editable": true
   },
   "source": [
    "### Minimize Cost Function with scipy"
   ]
  },
  {
   "cell_type": "code",
   "execution_count": 11,
   "metadata": {
    "collapsed": false,
    "deletable": true,
    "editable": true
   },
   "outputs": [
    {
     "name": "stdout",
     "output_type": "stream",
     "text": [
      "Cost Function:  0.20349770158944386\n",
      "Parameters with no regularization:  [-25.1613   0.2062   0.2015]\n"
     ]
    },
    {
     "name": "stderr",
     "output_type": "stream",
     "text": [
      "/Library/Frameworks/Python.framework/Versions/3.4/lib/python3.4/site-packages/ipykernel/__main__.py:4: RuntimeWarning: divide by zero encountered in log\n"
     ]
    }
   ],
   "source": [
    "# for the functions called, theta must be the first argument, otherwise won't work.\n",
    "# no need to set a learning rate alpha\n",
    "from scipy.optimize import minimize\n",
    "res1 = minimize(costFunction, theta, args=(X, y), jac=gradient, options={'maxiter':400})\n",
    "res1.message\n",
    "print('Cost Function: ', res1.fun)\n",
    "print('Parameters with no regularization: ', res1.x)"
   ]
  },
  {
   "cell_type": "code",
   "execution_count": 12,
   "metadata": {
    "collapsed": false,
    "deletable": true,
    "editable": true
   },
   "outputs": [
    {
     "data": {
      "text/plain": [
       "<matplotlib.contour.QuadContourSet at 0x10943c7b8>"
      ]
     },
     "execution_count": 12,
     "metadata": {},
     "output_type": "execute_result"
    },
    {
     "data": {
      "image/png": "[encoded data removed]",
      "text/plain": [
       "<matplotlib.figure.Figure at 0x10943c6d8>"
      ]
     },
     "metadata": {},
     "output_type": "display_data"
    }
   ],
   "source": [
    "fig, ax = plt.subplots()\n",
    "plotData(df, ax, 'score1', 'score2', 'Exam 1 score', 'Exam 2 score', 'Status', 'Admitted', 'Not admitted')\n",
    "# meshgrid creates two square matrix of values from min to max, here the shape is (50, 50)\n",
    "xx1, xx2 = np.meshgrid(np.linspace(X[:,1].min(), X[:,1].max()), np.linspace(X[:,2].min(), X[:,2].max()))\n",
    "\n",
    "# stack the X values vertically. hstack won't work, must use np.c_\n",
    "# xx1.ravel() flatterns xx1 to a 50*50 vector\n",
    "xx =  np.c_[np.ones(xx1.ravel().shape), xx1.ravel(), xx2.ravel()]\n",
    "h = sigmoid(xx.dot(res1.x))\n",
    "# shape h from 50*50 back to (50, 50) matrix\n",
    "h = h.reshape(xx1.shape)\n",
    "plt.contour(xx1, xx2, h, [0.5], linewidths=1, colors='b')"
   ]
  },
  {
   "cell_type": "markdown",
   "metadata": {
    "deletable": true,
    "editable": true
   },
   "source": [
    "### Evaluate Logistic  Regression"
   ]
  },
  {
   "cell_type": "code",
   "execution_count": 13,
   "metadata": {
    "collapsed": false,
    "deletable": true,
    "editable": true
   },
   "outputs": [],
   "source": [
    "# return 0 or 1 for admission status\n",
    "def predict(X, theta, threshold=0.5):\n",
    "    return np.where(sigmoid(X.dot(theta)) <= threshold, 0, 1)"
   ]
  },
  {
   "cell_type": "code",
   "execution_count": 14,
   "metadata": {
    "collapsed": false,
    "deletable": true,
    "editable": true
   },
   "outputs": [
    {
     "data": {
      "text/plain": [
       "array([0, 0, 0, 1, 1, 0, 1, 0, 1, 1, 1, 0, 1, 1, 0, 1, 0, 0, 1, 1, 0, 1, 0,\n",
       "       0, 1, 1, 1, 1, 0, 0, 1, 1, 0, 0, 0, 0, 1, 1, 0, 0, 1, 0, 1, 1, 0, 0,\n",
       "       1, 1, 1, 1, 1, 1, 1, 0, 0, 0, 1, 1, 1, 1, 1, 0, 0, 0, 0, 0, 1, 0, 1,\n",
       "       1, 0, 1, 1, 1, 1, 1, 1, 1, 0, 1, 1, 1, 1, 0, 1, 1, 0, 1, 1, 0, 1, 1,\n",
       "       0, 1, 1, 1, 1, 1, 0, 1])"
      ]
     },
     "execution_count": 14,
     "metadata": {},
     "output_type": "execute_result"
    }
   ],
   "source": [
    "predict(X, res1.x)"
   ]
  },
  {
   "cell_type": "code",
   "execution_count": 15,
   "metadata": {
    "collapsed": false,
    "deletable": true,
    "editable": true
   },
   "outputs": [
    {
     "name": "stdout",
     "output_type": "stream",
     "text": [
      "Training accuracy: 89.0%\n"
     ]
    }
   ],
   "source": [
    "accuracy = np.sum((predict(X, res1.x, 0.5) - y) == 0) / y.shape[0] * 100\n",
    "print('Training accuracy: {}%'.format(accuracy))"
   ]
  },
  {
   "cell_type": "code",
   "execution_count": 16,
   "metadata": {
    "collapsed": false,
    "deletable": true,
    "editable": true
   },
   "outputs": [
    {
     "data": {
      "text/plain": [
       "0.77629072405889399"
      ]
     },
     "execution_count": 16,
     "metadata": {},
     "output_type": "execute_result"
    }
   ],
   "source": [
    "test_X = np.array([1, 45, 85])\n",
    "p = sigmoid(test_X.dot(res1.x))\n",
    "p"
   ]
  },
  {
   "cell_type": "markdown",
   "metadata": {},
   "source": [
    "### Solve by sklearn"
   ]
  },
  {
   "cell_type": "code",
   "execution_count": 17,
   "metadata": {
    "collapsed": false
   },
   "outputs": [
    {
     "data": {
      "text/plain": [
       "LogisticRegression(C=1.0, class_weight=None, dual=False, fit_intercept=True,\n",
       "          intercept_scaling=1, max_iter=100, multi_class='ovr', n_jobs=1,\n",
       "          penalty='l2', random_state=None, solver='liblinear', tol=0.0001,\n",
       "          verbose=0, warm_start=False)"
      ]
     },
     "execution_count": 17,
     "metadata": {},
     "output_type": "execute_result"
    }
   ],
   "source": [
    "from sklearn.linear_model import LogisticRegression\n",
    "\n",
    "df = pd.read_csv('./machine-learning-ex2/ex2/ex2data1.txt', names=['score1', 'score2', 'Admission'])\n",
    "\n",
    "# logistic regression with l2 regularization (default) (analytical solution, non-sparse outputs, no feature selection)\n",
    "log_reg = LogisticRegression()\n",
    "\n",
    "# logistic regression with l1 regularization (computationally-inefficient on non-sparse cases, sparse output, built-in feature selection)\n",
    "log_reg_l1 = LogisticRegression(penalty='l1')\n",
    "\n",
    "# logistic regression with very small regularization: C = 1/lambda is large\n",
    "log_reg_C = LogisticRegression(C=10000000)\n",
    "\n",
    "log_reg.fit(df[['score1', 'score2']], df['Admission'])"
   ]
  },
  {
   "cell_type": "code",
   "execution_count": 18,
   "metadata": {
    "collapsed": false
   },
   "outputs": [
    {
     "data": {
      "text/plain": [
       "LogisticRegression(C=1.0, class_weight=None, dual=False, fit_intercept=True,\n",
       "          intercept_scaling=1, max_iter=100, multi_class='ovr', n_jobs=1,\n",
       "          penalty='l1', random_state=None, solver='liblinear', tol=0.0001,\n",
       "          verbose=0, warm_start=False)"
      ]
     },
     "execution_count": 18,
     "metadata": {},
     "output_type": "execute_result"
    }
   ],
   "source": [
    "log_reg_l1.fit(df[['score1', 'score2']], df['Admission'])"
   ]
  },
  {
   "cell_type": "code",
   "execution_count": 19,
   "metadata": {
    "collapsed": false
   },
   "outputs": [
    {
     "data": {
      "text/plain": [
       "LogisticRegression(C=10000000, class_weight=None, dual=False,\n",
       "          fit_intercept=True, intercept_scaling=1, max_iter=100,\n",
       "          multi_class='ovr', n_jobs=1, penalty='l2', random_state=None,\n",
       "          solver='liblinear', tol=0.0001, verbose=0, warm_start=False)"
      ]
     },
     "execution_count": 19,
     "metadata": {},
     "output_type": "execute_result"
    }
   ],
   "source": [
    "log_reg_C.fit(df[['score1', 'score2']], df['Admission'])"
   ]
  },
  {
   "cell_type": "code",
   "execution_count": 20,
   "metadata": {
    "collapsed": false
   },
   "outputs": [
    {
     "name": "stdout",
     "output_type": "stream",
     "text": [
      "parameters for logistic regression with l2 penalty (default):  -3.8997779447 [[ 0.0384  0.031 ]]\n",
      "parameters for logistic regression with l1 penalty:  -11.5645926001 [[ 0.0978  0.0917]]\n",
      "parameters for logistic regression with small regularization -24.9559696557 [[ 0.2046  0.1998]]\n"
     ]
    }
   ],
   "source": [
    "print('parameters for logistic regression with l2 penalty (default): ', log_reg.intercept_[0], log_reg.coef_)\n",
    "print('parameters for logistic regression with l1 penalty: ', log_reg_l1.intercept_[0], log_reg_l1.coef_)\n",
    "print('parameters for logistic regression with small regularization', log_reg_C.intercept_[0], log_reg_C.coef_)"
   ]
  },
  {
   "cell_type": "code",
   "execution_count": 21,
   "metadata": {
    "collapsed": false
   },
   "outputs": [
    {
     "data": {
      "text/plain": [
       "1"
      ]
     },
     "execution_count": 21,
     "metadata": {},
     "output_type": "execute_result"
    }
   ],
   "source": [
    "p1 = log_reg.predict(np.array([45, 85]).reshape(1, 2))\n",
    "p1[0]"
   ]
  },
  {
   "cell_type": "code",
   "execution_count": 22,
   "metadata": {
    "collapsed": false
   },
   "outputs": [
    {
     "name": "stdout",
     "output_type": "stream",
     "text": [
      "Training accuracy by sklearn: 87.0%\n"
     ]
    }
   ],
   "source": [
    "score1 = np.round(log_reg.score(df[['score1', 'score2']], df['Admission'])*100, 2)\n",
    "print('Training accuracy by sklearn: {}%'.format(score1))"
   ]
  },
  {
   "cell_type": "markdown",
   "metadata": {
    "deletable": true,
    "editable": true
   },
   "source": [
    "## Regularized Logistic Regression"
   ]
  },
  {
   "cell_type": "code",
   "execution_count": 23,
   "metadata": {
    "collapsed": false,
    "deletable": true,
    "editable": true
   },
   "outputs": [
    {
     "data": {
      "text/html": [
       "<div>\n",
       "<table border=\"1\" class=\"dataframe\">\n",
       "  <thead>\n",
       "    <tr style=\"text-align: right;\">\n",
       "      <th></th>\n",
       "      <th>test1</th>\n",
       "      <th>test2</th>\n",
       "      <th>result</th>\n",
       "    </tr>\n",
       "  </thead>\n",
       "  <tbody>\n",
       "    <tr>\n",
       "      <th>113</th>\n",
       "      <td>-0.720620</td>\n",
       "      <td>0.538740</td>\n",
       "      <td>0</td>\n",
       "    </tr>\n",
       "    <tr>\n",
       "      <th>114</th>\n",
       "      <td>-0.593890</td>\n",
       "      <td>0.494880</td>\n",
       "      <td>0</td>\n",
       "    </tr>\n",
       "    <tr>\n",
       "      <th>115</th>\n",
       "      <td>-0.484450</td>\n",
       "      <td>0.999270</td>\n",
       "      <td>0</td>\n",
       "    </tr>\n",
       "    <tr>\n",
       "      <th>116</th>\n",
       "      <td>-0.006336</td>\n",
       "      <td>0.999270</td>\n",
       "      <td>0</td>\n",
       "    </tr>\n",
       "    <tr>\n",
       "      <th>117</th>\n",
       "      <td>0.632650</td>\n",
       "      <td>-0.030612</td>\n",
       "      <td>0</td>\n",
       "    </tr>\n",
       "  </tbody>\n",
       "</table>\n",
       "</div>"
      ],
      "text/plain": [
       "        test1     test2 result\n",
       "113 -0.720620  0.538740      0\n",
       "114 -0.593890  0.494880      0\n",
       "115 -0.484450  0.999270      0\n",
       "116 -0.006336  0.999270      0\n",
       "117  0.632650 -0.030612      0"
      ]
     },
     "execution_count": 23,
     "metadata": {},
     "output_type": "execute_result"
    }
   ],
   "source": [
    "# load data\n",
    "df2 = pd.read_csv('./machine-learning-ex2/ex2/ex2data2.txt', names=['test1', 'test2', 'result'])\n",
    "df2['result'] = df2['result'].astype('str')\n",
    "df2.tail()"
   ]
  },
  {
   "cell_type": "markdown",
   "metadata": {
    "deletable": true,
    "editable": true
   },
   "source": [
    "### Visualize the data"
   ]
  },
  {
   "cell_type": "code",
   "execution_count": 24,
   "metadata": {
    "collapsed": false,
    "deletable": true,
    "editable": true
   },
   "outputs": [
    {
     "data": {
      "text/plain": [
       "(-1, 1.5)"
      ]
     },
     "execution_count": 24,
     "metadata": {},
     "output_type": "execute_result"
    },
    {
     "data": {
      "image/png": "[encoded data removed]",
      "text/plain": [
       "<matplotlib.figure.Figure at 0x109be0668>"
      ]
     },
     "metadata": {},
     "output_type": "display_data"
    }
   ],
   "source": [
    "fig2, ax2 = plt.subplots()\n",
    "plotData(df2, ax2, 'test1', 'test2', 'Microchip Test 1', 'Microchip Test 2', 'result', '1', '0')\n",
    "ax2.set_xlabel('Microchip Test 1')\n",
    "ax2.set_ylabel('Microchip Test 2')\n",
    "ax2.set_xlim(-1, 1.5)\n",
    "ax2.set_ylim(-1, 1.5)"
   ]
  },
  {
   "cell_type": "code",
   "execution_count": 25,
   "metadata": {
    "collapsed": false,
    "deletable": true,
    "editable": true
   },
   "outputs": [
    {
     "data": {
      "text/plain": [
       "<seaborn.axisgrid.FacetGrid at 0x109c4fcf8>"
      ]
     },
     "execution_count": 25,
     "metadata": {},
     "output_type": "execute_result"
    },
    {
     "data": {
      "image/png": "[encoded data removed]",
      "text/plain": [
       "<matplotlib.figure.Figure at 0x109c4f9b0>"
      ]
     },
     "metadata": {},
     "output_type": "display_data"
    }
   ],
   "source": [
    "# plot the data with seaborn\n",
    "ax2 = sns.lmplot(x='test1', y='test2', hue='result', size=7, data=df2, fit_reg=False, scatter_kws={'s':50})\n",
    "ax2.set(xlim=(-1, 1.5),ylim=(-1, 1.5))"
   ]
  },
  {
   "cell_type": "code",
   "execution_count": 26,
   "metadata": {
    "collapsed": false,
    "deletable": true,
    "editable": true
   },
   "outputs": [
    {
     "data": {
      "text/plain": [
       "((118, 28), (118,))"
      ]
     },
     "execution_count": 26,
     "metadata": {},
     "output_type": "execute_result"
    }
   ],
   "source": [
    "from sklearn.preprocessing import PolynomialFeatures\n",
    "\n",
    "# Generate polynomial and interaction features with degree=6\n",
    "poly = PolynomialFeatures(6)\n",
    "X2 = df2.iloc[:, 0:2].values\n",
    "XX2 = poly.fit_transform(df2.iloc[:, 0:2])\n",
    "y2 = df2['result'].astype(int).values\n",
    "XX2.shape, y2.shape"
   ]
  },
  {
   "cell_type": "code",
   "execution_count": 27,
   "metadata": {
    "collapsed": false,
    "deletable": true,
    "editable": true
   },
   "outputs": [],
   "source": [
    "# implement regularized cost function\n",
    "def costFunctionReg(theta, reg, X, y):\n",
    "    h = sigmoid(X.dot(theta))\n",
    "    return ((1/len(X)) * ((-y.dot(np.log(h)) - (1-y).dot(np.log(1-h))) + (reg/2)*(np.sum(theta[1:]**2))))"
   ]
  },
  {
   "cell_type": "code",
   "execution_count": 28,
   "metadata": {
    "collapsed": false,
    "deletable": true,
    "editable": true
   },
   "outputs": [],
   "source": [
    "def gradientReg(theta, reg, X, y):\n",
    "    h = sigmoid(X.dot(theta))\n",
    "    grad = ((1/(len(X)) * (h - y).dot(X))) + (reg/len(X)) * theta\n",
    "    grad[0] = ((1/(len(X)) * (h - y).dot(X)))[0]\n",
    "    return grad"
   ]
  },
  {
   "cell_type": "code",
   "execution_count": 29,
   "metadata": {
    "collapsed": false,
    "deletable": true,
    "editable": true
   },
   "outputs": [
    {
     "data": {
      "text/plain": [
       "0.69314718055994529"
      ]
     },
     "execution_count": 29,
     "metadata": {},
     "output_type": "execute_result"
    }
   ],
   "source": [
    "# compute regularized cost function\n",
    "init_theta = np.zeros(XX2.shape[1])\n",
    "reg = 1\n",
    "costFunctionReg(init_theta, reg, XX2, y2)"
   ]
  },
  {
   "cell_type": "code",
   "execution_count": 30,
   "metadata": {
    "collapsed": false,
    "deletable": true,
    "editable": true
   },
   "outputs": [
    {
     "name": "stdout",
     "output_type": "stream",
     "text": [
      "Message:  Optimization terminated successfully.\n",
      "Cost function:  0.5290027422869217\n",
      "theta:  [ 1.2727  0.6256  1.181  -2.0192 -0.9176 -1.4319  0.1238 -0.3651 -0.357\n",
      " -0.1749 -1.4584 -0.0513 -0.616  -0.2746 -1.1928 -0.2427 -0.2057 -0.045\n",
      " -0.2778 -0.2953 -0.4561 -1.0438  0.0276 -0.2927  0.0154 -0.3276 -0.1439\n",
      " -0.9246]\n",
      "Training accuracy: 83.05084745762711%\n"
     ]
    }
   ],
   "source": [
    "reg_res = minimize(costFunctionReg, init_theta, args=(reg, XX2, y2), jac=gradientReg, options={'maxiter':400})\n",
    "acc = np.sum(predict(XX2, reg_res.x) - y2 == 0) / y2.shape[0] * 100\n",
    "\n",
    "print('Message: ', reg_res.message)\n",
    "print('Cost function: ', reg_res.fun)\n",
    "print('theta: ', reg_res.x)\n",
    "print('Training accuracy: {}%'.format(acc))"
   ]
  },
  {
   "cell_type": "code",
   "execution_count": 31,
   "metadata": {
    "collapsed": false,
    "deletable": true,
    "editable": true
   },
   "outputs": [
    {
     "name": "stderr",
     "output_type": "stream",
     "text": [
      "/Library/Frameworks/Python.framework/Versions/3.4/lib/python3.4/site-packages/matplotlib/axes/_axes.py:531: UserWarning: No labelled objects found. Use label='...' kwarg on individual plots.\n",
      "  warnings.warn(\"No labelled objects found. \"\n",
      "/Library/Frameworks/Python.framework/Versions/3.4/lib/python3.4/site-packages/ipykernel/__main__.py:3: RuntimeWarning: overflow encountered in exp\n",
      "  app.launch_new_instance()\n"
     ]
    },
    {
     "data": {
      "image/png": "[encoded data removed]",
      "text/plain": [
       "<matplotlib.figure.Figure at 0x109cb7400>"
      ]
     },
     "metadata": {},
     "output_type": "display_data"
    }
   ],
   "source": [
    "fig, axes = plt.subplots(1, 4, sharex=True, sharey=True, figsize=(18, 4))\n",
    "\n",
    "for i, C in enumerate([0, 1, 10, 100]):\n",
    "    \n",
    "    # plot the decision boundary\n",
    "    plotData(df2, axes[i], 'test1', 'test2', 'Microchip Test 1', 'Microchip Test 2', 'result', '1', '0')\n",
    "\n",
    "    # meshgrid creates two square matrix of values from min to max, here the shape is (118, 118)\n",
    "    xx1, xx2 = np.meshgrid(np.linspace(X2[:,0].min(), X2[:,0].max()), np.linspace(X2[:,1].min(), X2[:,1].max()))\n",
    "\n",
    "    reg_res = minimize(costFunctionReg, init_theta, args=(C, XX2, y2), jac=gradientReg, options={'maxiter':400})\n",
    "    acc = np.round(np.sum(predict(XX2, reg_res.x) - y2 == 0) / y2.shape[0] * 100, 2)\n",
    "    \n",
    "    # stack the X values vertically. hstack won't work, must use np.c_\n",
    "    # xx1.ravel() flatterns xx1 to a vector with length 118*118\n",
    "    h = sigmoid(poly.fit_transform(np.c_[xx1.ravel(), xx2.ravel()]).dot(reg_res.x))\n",
    "    # shape h from 118*118 back to (118, 118) matrix\n",
    "    h = h.reshape(xx1.shape)\n",
    "    axes[i].contour(xx1, xx2, h, [0.5], linewidths=1, colors='b', )\n",
    "    axes[i].set_title('Training Accuracy {}% with lambda={}'.format(acc, C))\n",
    "    axes[i].set_xlim(-1, 1.5)\n",
    "    axes[i].set_ylim(-1, 1.5)"
   ]
  },
  {
   "cell_type": "markdown",
   "metadata": {
    "deletable": true,
    "editable": true
   },
   "source": [
    "### Solve by scikit-learn"
   ]
  },
  {
   "cell_type": "code",
   "execution_count": 32,
   "metadata": {
    "collapsed": false
   },
   "outputs": [
    {
     "name": "stdout",
     "output_type": "stream",
     "text": [
      "Training accuracy for C = 0.01:  0.43\n",
      "Training accuracy for C = 0.1:  0.53\n",
      "Training accuracy for C = 1:  0.54\n",
      "Training accuracy for C = 10000:  0.55\n"
     ]
    }
   ],
   "source": [
    "C = [0.01, 0.1, 1, 10000]\n",
    "models = []\n",
    "\n",
    "for c in C:\n",
    "    model = LogisticRegression(C=c)\n",
    "    \n",
    "    models.append(model.fit(df2.iloc[:,0:2], df2['result']))\n",
    "    score = model.score(df2.iloc[:,0:2], df2['result'])\n",
    "    \n",
    "    print('Training accuracy for C = {}: '.format(c), np.round(score, 2))"
   ]
  },
  {
   "cell_type": "code",
   "execution_count": 33,
   "metadata": {
    "collapsed": false
   },
   "outputs": [
    {
     "name": "stdout",
     "output_type": "stream",
     "text": [
      "Training accuracy for C = 0.01:  0.61\n",
      "Training accuracy for C = 0.1:  0.74\n",
      "Training accuracy for C = 1:  0.83\n",
      "Training accuracy for C = 10000:  0.87\n"
     ]
    }
   ],
   "source": [
    "C = [0.01, 0.1, 1, 10000]\n",
    "models = []\n",
    "\n",
    "for i, c in enumerate(C):\n",
    "    model = LogisticRegression(C=c)\n",
    "    \n",
    "    # use polynomial terms in XX2\n",
    "    models.append(model.fit(XX2, df2['result']))\n",
    "    score = model.score(XX2, df2['result'])\n",
    "    \n",
    "    print('Training accuracy for C = {}: '.format(c), np.round(score, 2))\n",
    "    \n",
    "# By comparison, polynomial features have higher score than linear features."
   ]
  },
  {
   "cell_type": "code",
   "execution_count": 34,
   "metadata": {
    "collapsed": false
   },
   "outputs": [
    {
     "data": {
      "text/plain": [
       "(LogisticRegression(C=10000, class_weight=None, dual=False, fit_intercept=True,\n",
       "           intercept_scaling=1, max_iter=100, multi_class='ovr', n_jobs=1,\n",
       "           penalty='l2', random_state=None, solver='liblinear', tol=0.0001,\n",
       "           verbose=0, warm_start=False), {'C': 10000})"
      ]
     },
     "execution_count": 34,
     "metadata": {},
     "output_type": "execute_result"
    }
   ],
   "source": [
    "# Select the best C using Grid-Search\n",
    "from sklearn.model_selection import GridSearchCV\n",
    "\n",
    "log_r = LogisticRegression()\n",
    "clf = GridSearchCV(log_r, param_grid={'C': [0.01, 0.1, 1, 10000]})\n",
    "clf.fit(XX2, df2['result'])\n",
    "\n",
    "clf.best_estimator_, clf.best_params_"
   ]
  }
 ],
 "metadata": {
  "kernelspec": {
   "display_name": "Python 3",
   "language": "python",
   "name": "python3"
  },
  "language_info": {
   "codemirror_mode": {
    "name": "ipython",
    "version": 3
   },
   "file_extension": ".py",
   "mimetype": "text/x-python",
   "name": "python",
   "nbconvert_exporter": "python",
   "pygments_lexer": "ipython3",
   "version": "3.4.3"
  }
 },
 "nbformat": 4,
 "nbformat_minor": 1
}
